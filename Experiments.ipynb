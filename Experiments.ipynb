{
 "cells": [
  {
   "cell_type": "markdown",
   "metadata": {},
   "source": [
    "# Results evaluiation\n",
    "## Retrieve adversary profiles from caldera\n"
   ]
  },
  {
   "cell_type": "code",
   "execution_count": 1,
   "metadata": {},
   "outputs": [],
   "source": [
    "def remove_subteq(lst:list)->list:\n",
    "    result = [code.split('.')[0] for code in lst]\n",
    "    return result"
   ]
  },
  {
   "cell_type": "code",
   "execution_count": 2,
   "metadata": {},
   "outputs": [],
   "source": [
    "import pandas as pd\n",
    "adv_profile = pd.read_csv('data/caldera/adversary_profiles.csv')\n",
    "adv_profile.head(5)\n",
    "adv_apt29 = eval(adv_profile.loc[adv_profile['Adversary name'] == 'APT29', 'Technique list'].values[0])\n",
    "adv_carbanak = eval(adv_profile.loc[adv_profile['Adversary name'] == 'Carbanak', 'Technique list'].values[0])\n",
    "adv_fin6 = eval(adv_profile.loc[adv_profile['Adversary name'] == 'FIN6', 'Technique list'].values[0])\n",
    "adv_fin7 = eval(adv_profile.loc[adv_profile['Adversary name'] == 'FIN7', 'Technique list'].values[0])\n",
    "adv_menuPass = eval(adv_profile.loc[adv_profile['Adversary name'] == 'menuPass', 'Technique list'].values[0])\n",
    "adv_oilring = eval(adv_profile.loc[adv_profile['Adversary name'] == 'OilRig', 'Technique list'].values[0])\n",
    "adv_sandworm = eval(adv_profile.loc[adv_profile['Adversary name'] == 'Sandworm Team (G0034)', 'Technique list'].values[0])\n",
    "adv_wizardspider = eval(adv_profile.loc[adv_profile['Adversary name'] == 'Wizard Spider', 'Technique list'].values[0])\n"
   ]
  },
  {
   "cell_type": "code",
   "execution_count": null,
   "metadata": {},
   "outputs": [],
   "source": []
  },
  {
   "cell_type": "code",
   "execution_count": 3,
   "metadata": {},
   "outputs": [],
   "source": [
    "adv_apt29 = remove_subteq(adv_apt29)\n",
    "adv_carbanak = remove_subteq(adv_carbanak)\n",
    "adv_fin6 = remove_subteq(adv_fin6)\n",
    "adv_fin7 = remove_subteq(adv_fin7)\n",
    "adv_menuPass = remove_subteq(adv_menuPass)\n",
    "adv_oilring =remove_subteq(adv_oilring)\n",
    "adv_sandworm = remove_subteq(adv_sandworm)\n",
    "adv_wizardspider = remove_subteq(adv_wizardspider)"
   ]
  },
  {
   "cell_type": "code",
   "execution_count": 4,
   "metadata": {},
   "outputs": [],
   "source": [
    "cleaned_adv_apt29= list(dict.fromkeys(adv_apt29))\n",
    "cleaned_adv_carbanak= list(dict.fromkeys(adv_carbanak))\n",
    "cleaned_adv_fin6= list(dict.fromkeys(adv_fin6))\n",
    "cleaned_adv_fin7= list(dict.fromkeys(adv_fin7))\n",
    "cleaned_adv_menuPass= list(dict.fromkeys(adv_menuPass))\n",
    "cleaned_adv_oilrig= list(dict.fromkeys(adv_oilring))\n",
    "cleaned_adv_sandworm= list(dict.fromkeys(adv_sandworm))\n",
    "cleaned_adv_wizardspider= list(dict.fromkeys(adv_wizardspider))"
   ]
  },
  {
   "cell_type": "markdown",
   "metadata": {},
   "source": [
    "## Top1 criterion"
   ]
  },
  {
   "cell_type": "code",
   "execution_count": 5,
   "metadata": {},
   "outputs": [],
   "source": [
    "def true_positive_p(list1: list, list2: list)->float:\n",
    "    A = remove_subteq(list1)\n",
    "    B = remove_subteq(list2)\n",
    "    As = set(A)\n",
    "    Bs = set(B)\n",
    "    union = As | Bs\n",
    "    inter = As & Bs\n",
    "    return len(inter)/len(Bs)\n",
    "\n",
    "def false_negative_p(list1: list, list2: list)->float:\n",
    "    A = remove_subteq(list1)\n",
    "    B = remove_subteq(list2)\n",
    "    As = set(A)\n",
    "    Bs = set(B)\n",
    "    union = As | Bs\n",
    "    inter = As & Bs\n",
    "    return len(Bs-As)/len(Bs)\n",
    "\n",
    "def false_positive_p(list1: list, list2: list)->float:\n",
    "    A = remove_subteq(list1)\n",
    "    B = remove_subteq(list2)\n",
    "    As = set(A)\n",
    "    Bs = set(B)\n",
    "    union = As | Bs\n",
    "    inter = As & Bs\n",
    "    return len(As-Bs)/len(As)"
   ]
  },
  {
   "cell_type": "markdown",
   "metadata": {},
   "source": [
    "## Top K criterion"
   ]
  },
  {
   "cell_type": "code",
   "execution_count": 6,
   "metadata": {},
   "outputs": [],
   "source": [
    "def tuple_true_positives(topk_list:list, positive_list:list)->list:\n",
    "    # reputa un true positive se è presente almeno un elemento della tupla nella lista caldera e restituisce il primo elemento che ha dato esito positivo (più probabile)\n",
    "    true_positives = []\n",
    "    for klist in topk_list:\n",
    "        for techniques in klist:\n",
    "            for adv in positive_list:\n",
    "                if(techniques)==adv:\n",
    "                    true_positives.append(techniques)\n",
    "    return true_positives\n",
    "\n",
    "def tuple_false_positives(topk_list:list, positive_list:list)->list:\n",
    "    # reputa un false positive quella tupla che non ha alcuna corrispondenza (restituisce pertanto una lista composta da tuple k-dimensionalis)\n",
    "    false_positives = []\n",
    "    for klist in topk_list:\n",
    "        acc = 0\n",
    "        for techniques in klist:                        # dovresti intervenire quì e mettere un limite\n",
    "            for adv in positive_list:\n",
    "                if(techniques)==adv:\n",
    "                    acc = acc +1\n",
    "        if acc == 0:\n",
    "            false_positives.append(klist)\n",
    "    return false_positives\n",
    "\n",
    "def tuple_false_positives_backup(topk_list:list, positive_list:list)->list:\n",
    "    # reputa un false positive quella tupla che non ha alcuna corrispondenza (restituisce pertanto una lista composta da tuple k-dimensionalis)\n",
    "    false_positives = []\n",
    "    for klist in topk_list:\n",
    "        acc = 0\n",
    "        for techniques in klist:                        # dovresti intervenire quì e mettere un limite\n",
    "            for adv in positive_list:\n",
    "                if(techniques)==adv:\n",
    "                    acc = acc +1\n",
    "        if acc == 0:\n",
    "            false_positives.append(klist)\n",
    "    return false_positives\n",
    "\n",
    "def len_tuple(klist:list)-> int:\n",
    "    #rimuove le tuple duplicate e restituisce la dimensione di insieme\n",
    "    return len(list(map(list, set(map(tuple, klist)))))\n"
   ]
  },
  {
   "cell_type": "markdown",
   "metadata": {},
   "source": [
    "## Retrieve predicted"
   ]
  },
  {
   "cell_type": "code",
   "execution_count": 7,
   "metadata": {},
   "outputs": [],
   "source": [
    "import json\n",
    "with open('output/apt29/apt29.json') as fp:\n",
    "    apt29 = json.load(fp=fp)\n",
    "with open('output/carbanak/carbanak.json') as fp:\n",
    "    carbanak = json.load(fp=fp)\n",
    "with open('output/fin6/fin6.json') as fp:\n",
    "    fin6 = json.load(fp=fp)\n",
    "with open('output/fin7/fin7.json') as fp:\n",
    "    fin7 = json.load(fp=fp)\n",
    "with open('output/menuPass/menuPass.json') as fp:\n",
    "    menuPass = json.load(fp=fp)\n",
    "with open('output/oilrig/oilrig.json') as fp:\n",
    "    oilrig = json.load(fp=fp)\n",
    "with open('output/sandworm/sandworm.json') as fp:\n",
    "    sandworm = json.load(fp=fp)\n",
    "with open('output/wizardspider/wizardspider.json') as fp:\n",
    "    wizardspider = json.load(fp=fp)"
   ]
  },
  {
   "cell_type": "code",
   "execution_count": 40,
   "metadata": {},
   "outputs": [],
   "source": [
    "import json\n",
    "with open('output/apt29_naive/apt29_naive_naive.json') as fp:\n",
    "    apt29 = json.load(fp=fp)\n",
    "with open('output/carbanak_naive/carbanak_naive_naive.json') as fp:\n",
    "    carbanak = json.load(fp=fp)\n",
    "with open('output/fin6_naive/fin6_naive_naive.json') as fp:\n",
    "    fin6 = json.load(fp=fp)\n",
    "with open('output/fin7_naive/fin7_naive_naive.json') as fp:\n",
    "    fin7 = json.load(fp=fp)\n",
    "with open('output/menuPass_naive/menuPass_naive_naive.json') as fp:\n",
    "    menuPass = json.load(fp=fp)\n",
    "with open('output/oilrig_naive/oilrig_naive_naive.json') as fp:\n",
    "    oilrig = json.load(fp=fp)\n",
    "with open('output/sandworm_naive/sandworm_naive_naive.json') as fp:\n",
    "    sandworm = json.load(fp=fp)\n",
    "with open('output/wizardspider_naive/wizardspider_naive_naive.json') as fp:\n",
    "    wizardspider = json.load(fp=fp)"
   ]
  },
  {
   "cell_type": "code",
   "execution_count": 9,
   "metadata": {},
   "outputs": [],
   "source": [
    "def retrieve_predicted(apt)->list:\n",
    "    techlist=[]\n",
    "    for entry in apt:\n",
    "        if entry[\"detection\"][\"response\"] == True:\n",
    "            techlist.append(entry[\"prediction\"][\"attack_id\"])\n",
    "    return techlist"
   ]
  },
  {
   "cell_type": "code",
   "execution_count": 41,
   "metadata": {},
   "outputs": [],
   "source": [
    "apt29= retrieve_predicted(apt29)\n",
    "carbanak= retrieve_predicted(carbanak)\n",
    "fin6= retrieve_predicted(fin6)\n",
    "fin7= retrieve_predicted(fin7)\n",
    "menuPass= retrieve_predicted(menuPass)\n",
    "sandworm= retrieve_predicted(sandworm)\n",
    "oilrig= retrieve_predicted(oilrig)\n",
    "wizardspider= retrieve_predicted(wizardspider)\n",
    "\n"
   ]
  },
  {
   "cell_type": "code",
   "execution_count": 42,
   "metadata": {},
   "outputs": [
    {
     "name": "stdout",
     "output_type": "stream",
     "text": [
      "apt29: 1464\n",
      "carbanak: 1050\n",
      "fin6: 927\n",
      "fin7: 1248\n",
      "menuPass: 1978\n",
      "oilrig: 1002\n",
      "sandworm: 820\n",
      "wizardspider: 548\n"
     ]
    }
   ],
   "source": [
    "print(\"apt29:\",len(apt29))\n",
    "print(\"carbanak:\",len(carbanak))\n",
    "print(\"fin6:\",len(fin6))\n",
    "print(\"fin7:\",len(fin7))\n",
    "print(\"menuPass:\",len(menuPass))\n",
    "print(\"oilrig:\",len(oilrig))\n",
    "print(\"sandworm:\",len(sandworm))\n",
    "print(\"wizardspider:\",len(wizardspider))"
   ]
  },
  {
   "cell_type": "markdown",
   "metadata": {},
   "source": [
    "### Top 3 tuple"
   ]
  },
  {
   "cell_type": "code",
   "execution_count": 11,
   "metadata": {},
   "outputs": [],
   "source": [
    "top3_apt29 = [(a, b, c) for a, b, c, _, _ in apt29]\n",
    "top3_carbanak = [(a, b, c) for a, b, c, _, _ in carbanak]\n",
    "top3_fin6 = [(a, b, c) for a, b, c, _, _ in fin6]\n",
    "top3_fin7 = [(a, b, c) for a, b, c, _, _ in fin7]\n",
    "top3_menuPass = [(a, b, c) for a, b, c, _, _ in menuPass]\n",
    "top3_oilrig = [(a, b, c) for a, b, c, _, _ in oilrig]\n",
    "top3_sandworm = [(a, b, c) for a, b, c, _, _ in sandworm]\n",
    "top3_wizardspider = [(a, b, c) for a, b, c, _, _ in wizardspider]\n"
   ]
  },
  {
   "cell_type": "code",
   "execution_count": 12,
   "metadata": {},
   "outputs": [],
   "source": [
    "top1_apt29 = [a for a, *_ in apt29]\n",
    "top1_carbanak = [a for a, *_ in carbanak]\n",
    "top1_fin6 = [a for a, *_ in fin6]\n",
    "top1_fin7 = [a for a, *_ in fin7]\n",
    "top1_menuPass = [a for a, *_ in menuPass]\n",
    "top1_oilrig = [a for a, *_ in oilrig]\n",
    "top1_sandworm = [a for a, *_ in sandworm]\n",
    "top1_wizardspider = [a for a, *_ in wizardspider]"
   ]
  },
  {
   "cell_type": "markdown",
   "metadata": {},
   "source": [
    "## Retrieve prediction naive"
   ]
  },
  {
   "cell_type": "markdown",
   "metadata": {},
   "source": [
    "# Results\n",
    "## TOP 5"
   ]
  },
  {
   "cell_type": "code",
   "execution_count": 13,
   "metadata": {},
   "outputs": [
    {
     "name": "stdout",
     "output_type": "stream",
     "text": [
      "APT29 scores:\n",
      "True positives on the actual positives:\t 0.5853658536585366\n",
      "False positives (tuple) on predicted:\t 0.2677725118483412\n",
      "False positives cumulative: 113\n"
     ]
    }
   ],
   "source": [
    "apt29_tp= tuple_true_positives(topk_list=apt29,positive_list=cleaned_adv_apt29)\n",
    "apt29_tp = list(dict.fromkeys(apt29_tp))\n",
    "apt29_fp= tuple_false_positives(topk_list=apt29,positive_list=cleaned_adv_apt29)\n",
    "\n",
    "print(\"APT29 scores:\")\n",
    "print(\"True positives on the actual positives:\\t\", len(apt29_tp)/len(cleaned_adv_apt29))\n",
    "print(\"False positives (tuple) on predicted:\\t\", len(apt29_fp)/len(apt29))\n",
    "print(\"False positives cumulative:\", len(apt29_fp), len(apt29))"
   ]
  },
  {
   "cell_type": "code",
   "execution_count": 14,
   "metadata": {},
   "outputs": [
    {
     "name": "stdout",
     "output_type": "stream",
     "text": [
      "carbanak scores:\n",
      "True positives on the actual positives:\t 0.9473684210526315\n",
      "False positives (tuple) on predicted:\t 0.28525641025641024\n",
      "False positives cumulative: 89\n"
     ]
    }
   ],
   "source": [
    "carbanak_tp= tuple_true_positives(topk_list=carbanak,positive_list=cleaned_adv_carbanak)\n",
    "carbanak_tp = list(dict.fromkeys(carbanak_tp))\n",
    "carbanak_fp= tuple_false_positives(topk_list=carbanak,positive_list=cleaned_adv_carbanak)\n",
    "\n",
    "print(\"carbanak scores:\")\n",
    "print(\"True positives on the actual positives:\\t\", len(carbanak_tp)/len(cleaned_adv_carbanak))\n",
    "print(\"False positives (tuple) on predicted:\\t\", len(carbanak_fp)/len(carbanak))\n",
    "print(\"False positives cumulative:\", len(carbanak_fp))"
   ]
  },
  {
   "cell_type": "code",
   "execution_count": 15,
   "metadata": {},
   "outputs": [
    {
     "name": "stdout",
     "output_type": "stream",
     "text": [
      "fin6 scores:\n",
      "True positives on the actual positives:\t 0.9333333333333333\n",
      "False positives (tuple) on predicted:\t 0.5152838427947598\n",
      "False positives cumulative: 118\n"
     ]
    }
   ],
   "source": [
    "fin6_tp= tuple_true_positives(topk_list=fin6,positive_list=cleaned_adv_fin6)\n",
    "fin6_tp = list(dict.fromkeys(fin6_tp))\n",
    "fin6_fp= tuple_false_positives(topk_list=fin6,positive_list=cleaned_adv_fin6)\n",
    "\n",
    "print(\"fin6 scores:\")\n",
    "print(\"True positives on the actual positives:\\t\", len(fin6_tp)/len(cleaned_adv_fin6))\n",
    "print(\"False positives (tuple) on predicted:\\t\", len(fin6_fp)/len(fin6))\n",
    "print(\"False positives cumulative:\", len(fin6_fp))"
   ]
  },
  {
   "cell_type": "code",
   "execution_count": 16,
   "metadata": {},
   "outputs": [
    {
     "name": "stdout",
     "output_type": "stream",
     "text": [
      "fin7 scores:\n",
      "True positives on the actual positives:\t 0.8888888888888888\n",
      "False positives (tuple) on predicted:\t 0.4318766066838046\n",
      "False positives cumulative: 168\n"
     ]
    }
   ],
   "source": [
    "fin7_tp= tuple_true_positives(topk_list=fin7,positive_list=cleaned_adv_fin7)\n",
    "fin7_tp = list(dict.fromkeys(fin7_tp))\n",
    "fin7_fp= tuple_false_positives(topk_list=fin7,positive_list=cleaned_adv_fin7)\n",
    "\n",
    "print(\"fin7 scores:\")\n",
    "print(\"True positives on the actual positives:\\t\", len(fin7_tp)/len(cleaned_adv_fin7))\n",
    "print(\"False positives (tuple) on predicted:\\t\", len(fin7_fp)/len(fin7))\n",
    "print(\"False positives cumulative:\", len(fin7_fp))"
   ]
  },
  {
   "cell_type": "code",
   "execution_count": 17,
   "metadata": {},
   "outputs": [
    {
     "name": "stdout",
     "output_type": "stream",
     "text": [
      "oilrig scores:\n",
      "True positives on the actual positives:\t 1.0\n",
      "False positives (tuple) on predicted:\t 0.3090909090909091\n",
      "False positives cumulative: 85\n"
     ]
    }
   ],
   "source": [
    "oilrig_tp= tuple_true_positives(topk_list=oilrig,positive_list=cleaned_adv_oilrig)\n",
    "oilrig_tp = list(dict.fromkeys(oilrig_tp))\n",
    "oilrig_fp= tuple_false_positives(topk_list=oilrig,positive_list=cleaned_adv_oilrig)\n",
    "\n",
    "print(\"oilrig scores:\")\n",
    "print(\"True positives on the actual positives:\\t\", len(oilrig_tp)/len(cleaned_adv_oilrig))\n",
    "print(\"False positives (tuple) on predicted:\\t\", len(oilrig_fp)/len(oilrig))\n",
    "print(\"False positives cumulative:\", len(oilrig_fp))"
   ]
  },
  {
   "cell_type": "code",
   "execution_count": 18,
   "metadata": {},
   "outputs": [
    {
     "name": "stdout",
     "output_type": "stream",
     "text": [
      "menuPass scores:\n",
      "True positives on the actual positives:\t 0.8333333333333334\n",
      "False positives (tuple) on predicted:\t 0.599271402550091\n",
      "False positives cumulative: 329\n"
     ]
    }
   ],
   "source": [
    "menuPass_tp= tuple_true_positives(topk_list=menuPass,positive_list=cleaned_adv_menuPass)\n",
    "menuPass_tp = list(dict.fromkeys(menuPass_tp))\n",
    "menuPass_fp= tuple_false_positives(topk_list=menuPass,positive_list=cleaned_adv_menuPass)\n",
    "\n",
    "print(\"menuPass scores:\")\n",
    "print(\"True positives on the actual positives:\\t\", len(menuPass_tp)/len(cleaned_adv_menuPass))\n",
    "print(\"False positives (tuple) on predicted:\\t\", len(menuPass_fp)/len(menuPass))\n",
    "print(\"False positives cumulative:\", len(menuPass_fp))"
   ]
  },
  {
   "cell_type": "code",
   "execution_count": 19,
   "metadata": {},
   "outputs": [
    {
     "name": "stdout",
     "output_type": "stream",
     "text": [
      "sandworm scores:\n",
      "True positives on the actual positives:\t 0.85\n",
      "False positives (tuple) on predicted:\t 0.21888412017167383\n",
      "False positives cumulative: 51\n"
     ]
    }
   ],
   "source": [
    "sandworm_tp= tuple_true_positives(topk_list=sandworm,positive_list=cleaned_adv_sandworm)\n",
    "sandworm_tp = list(dict.fromkeys(sandworm_tp))\n",
    "sandworm_fp= tuple_false_positives(topk_list=sandworm,positive_list=cleaned_adv_sandworm)\n",
    "\n",
    "print(\"sandworm scores:\")\n",
    "print(\"True positives on the actual positives:\\t\", len(sandworm_tp)/len(cleaned_adv_sandworm))\n",
    "print(\"False positives (tuple) on predicted:\\t\", len(sandworm_fp)/len(sandworm))\n",
    "print(\"False positives cumulative:\", len(sandworm_fp))"
   ]
  },
  {
   "cell_type": "code",
   "execution_count": 20,
   "metadata": {},
   "outputs": [
    {
     "name": "stdout",
     "output_type": "stream",
     "text": [
      "wizardspider scores:\n",
      "True positives on the actual positives:\t 0.8\n",
      "False positives (tuple) on predicted:\t 0.45180722891566266\n",
      "False positives cumulative: 16\n"
     ]
    }
   ],
   "source": [
    "wizardspider_tp= tuple_true_positives(topk_list=wizardspider,positive_list=cleaned_adv_wizardspider)\n",
    "wizardspider_tp = list(dict.fromkeys(wizardspider_tp))\n",
    "wizardspider_fp= tuple_false_positives(topk_list=wizardspider,positive_list=cleaned_adv_wizardspider)\n",
    "\n",
    "print(\"wizardspider scores:\")\n",
    "print(\"True positives on the actual positives:\\t\", len(wizardspider_tp)/len(cleaned_adv_wizardspider))\n",
    "print(\"False positives (tuple) on predicted:\\t\", len(wizardspider_fp)/len(wizardspider))\n",
    "print(\"False positives cumulative:\", len(wizardspider_tp))"
   ]
  },
  {
   "cell_type": "markdown",
   "metadata": {},
   "source": [
    "## TOP 3"
   ]
  },
  {
   "cell_type": "code",
   "execution_count": 21,
   "metadata": {},
   "outputs": [
    {
     "name": "stdout",
     "output_type": "stream",
     "text": [
      "top3_apt29 scores:\n",
      "True positives on the actual positives:\t 0.5609756097560976\n",
      "False positives (tuple) on predicted:\t 0.4597156398104265\n",
      "False positives cumulative: 194\n"
     ]
    }
   ],
   "source": [
    "top3_apt29_tp= tuple_true_positives(topk_list=top3_apt29,positive_list=cleaned_adv_apt29)\n",
    "top3_apt29_tp = list(dict.fromkeys(top3_apt29_tp))\n",
    "top3_apt29_fp= tuple_false_positives(topk_list=top3_apt29,positive_list=cleaned_adv_apt29)\n",
    "\n",
    "print(\"top3_apt29 scores:\")\n",
    "print(\"True positives on the actual positives:\\t\", len(top3_apt29_tp)/len(cleaned_adv_apt29))\n",
    "print(\"False positives (tuple) on predicted:\\t\", len(top3_apt29_fp)/len(top3_apt29))\n",
    "print(\"False positives cumulative:\", len(top3_apt29_fp))"
   ]
  },
  {
   "cell_type": "code",
   "execution_count": 22,
   "metadata": {},
   "outputs": [
    {
     "name": "stdout",
     "output_type": "stream",
     "text": [
      "top3_carbanak scores:\n",
      "True positives on the actual positives:\t 0.7894736842105263\n",
      "False positives (tuple) on predicted:\t 0.4519230769230769\n",
      "False positives cumulative: 141\n"
     ]
    }
   ],
   "source": [
    "top3_carbanak_tp= tuple_true_positives(topk_list=top3_carbanak,positive_list=cleaned_adv_carbanak)\n",
    "top3_carbanak_tp = list(dict.fromkeys(top3_carbanak_tp))\n",
    "top3_carbanak_fp= tuple_false_positives(topk_list=top3_carbanak,positive_list=cleaned_adv_carbanak)\n",
    "\n",
    "print(\"top3_carbanak scores:\")\n",
    "print(\"True positives on the actual positives:\\t\", len(top3_carbanak_tp)/len(cleaned_adv_carbanak))\n",
    "print(\"False positives (tuple) on predicted:\\t\", len(top3_carbanak_fp)/len(top3_carbanak))\n",
    "print(\"False positives cumulative:\", len(top3_carbanak_fp))"
   ]
  },
  {
   "cell_type": "code",
   "execution_count": 23,
   "metadata": {},
   "outputs": [
    {
     "name": "stdout",
     "output_type": "stream",
     "text": [
      "top3_fin6 scores:\n",
      "True positives on the actual positives:\t 0.8\n",
      "False positives (tuple) on predicted:\t 0.6855895196506551\n",
      "False positives cumulative: 157\n"
     ]
    }
   ],
   "source": [
    "top3_fin6_tp= tuple_true_positives(topk_list=top3_fin6,positive_list=cleaned_adv_fin6)\n",
    "top3_fin6_tp = list(dict.fromkeys(top3_fin6_tp))\n",
    "top3_fin6_fp= tuple_false_positives(topk_list=top3_fin6,positive_list=cleaned_adv_fin6)\n",
    "\n",
    "print(\"top3_fin6 scores:\")\n",
    "print(\"True positives on the actual positives:\\t\", len(top3_fin6_tp)/len(cleaned_adv_fin6))\n",
    "print(\"False positives (tuple) on predicted:\\t\", len(top3_fin6_fp)/len(top3_fin6))\n",
    "print(\"False positives cumulative:\", len(top3_fin6_fp))"
   ]
  },
  {
   "cell_type": "code",
   "execution_count": 24,
   "metadata": {},
   "outputs": [
    {
     "name": "stdout",
     "output_type": "stream",
     "text": [
      "top3_fin7 scores:\n",
      "True positives on the actual positives:\t 0.8888888888888888\n",
      "False positives (tuple) on predicted:\t 0.5912596401028277\n",
      "False positives cumulative: 230\n"
     ]
    }
   ],
   "source": [
    "top3_fin7_tp= tuple_true_positives(topk_list=top3_fin7,positive_list=cleaned_adv_fin7)\n",
    "top3_fin7_tp = list(dict.fromkeys(top3_fin7_tp))\n",
    "top3_fin7_fp= tuple_false_positives(topk_list=top3_fin7,positive_list=cleaned_adv_fin7)\n",
    "\n",
    "print(\"top3_fin7 scores:\")\n",
    "print(\"True positives on the actual positives:\\t\", len(top3_fin7_tp)/len(cleaned_adv_fin7))\n",
    "print(\"False positives (tuple) on predicted:\\t\", len(top3_fin7_fp)/len(top3_fin7))\n",
    "print(\"False positives cumulative:\", len(top3_fin7_fp))"
   ]
  },
  {
   "cell_type": "code",
   "execution_count": 25,
   "metadata": {},
   "outputs": [
    {
     "name": "stdout",
     "output_type": "stream",
     "text": [
      "top3_oilrig scores:\n",
      "True positives on the actual positives:\t 0.9523809523809523\n",
      "False positives (tuple) on predicted:\t 0.44363636363636366\n",
      "False positives cumulative: 122\n"
     ]
    }
   ],
   "source": [
    "top3_oilrig_tp= tuple_true_positives(topk_list=top3_oilrig,positive_list=cleaned_adv_oilrig)\n",
    "top3_oilrig_tp = list(dict.fromkeys(top3_oilrig_tp))\n",
    "top3_oilrig_fp= tuple_false_positives(topk_list=top3_oilrig,positive_list=cleaned_adv_oilrig)\n",
    "\n",
    "print(\"top3_oilrig scores:\")\n",
    "print(\"True positives on the actual positives:\\t\", len(top3_oilrig_tp)/len(cleaned_adv_oilrig))\n",
    "print(\"False positives (tuple) on predicted:\\t\", len(top3_oilrig_fp)/len(top3_oilrig))\n",
    "print(\"False positives cumulative:\", len(top3_oilrig_fp))"
   ]
  },
  {
   "cell_type": "code",
   "execution_count": 26,
   "metadata": {},
   "outputs": [
    {
     "name": "stdout",
     "output_type": "stream",
     "text": [
      "top3_sandworm scores:\n",
      "True positives on the actual positives:\t 0.8\n",
      "False positives (tuple) on predicted:\t 0.38197424892703863\n",
      "False positives cumulative: 89\n"
     ]
    }
   ],
   "source": [
    "top3_sandworm_tp= tuple_true_positives(topk_list=top3_sandworm,positive_list=cleaned_adv_sandworm)\n",
    "top3_sandworm_tp = list(dict.fromkeys(top3_sandworm_tp))\n",
    "top3_sandworm_fp= tuple_false_positives(topk_list=top3_sandworm,positive_list=cleaned_adv_sandworm)\n",
    "\n",
    "print(\"top3_sandworm scores:\")\n",
    "print(\"True positives on the actual positives:\\t\", len(top3_sandworm_tp)/len(cleaned_adv_sandworm))\n",
    "print(\"False positives (tuple) on predicted:\\t\", len(top3_sandworm_fp)/len(top3_sandworm))\n",
    "print(\"False positives cumulative:\", len(top3_sandworm_fp))"
   ]
  },
  {
   "cell_type": "code",
   "execution_count": 27,
   "metadata": {},
   "outputs": [
    {
     "name": "stdout",
     "output_type": "stream",
     "text": [
      "top3_wizardspider scores:\n",
      "True positives on the actual positives:\t 0.75\n",
      "False positives (tuple) on predicted:\t 0.6265060240963856\n",
      "False positives cumulative: 104\n"
     ]
    }
   ],
   "source": [
    "top3_wizardspider_tp= tuple_true_positives(topk_list=top3_wizardspider,positive_list=cleaned_adv_wizardspider)\n",
    "top3_wizardspider_tp = list(dict.fromkeys(top3_wizardspider_tp))\n",
    "top3_wizardspider_fp= tuple_false_positives(topk_list=top3_wizardspider,positive_list=cleaned_adv_wizardspider)\n",
    "\n",
    "print(\"top3_wizardspider scores:\")\n",
    "print(\"True positives on the actual positives:\\t\", len(top3_wizardspider_tp)/len(cleaned_adv_wizardspider))\n",
    "print(\"False positives (tuple) on predicted:\\t\", len(top3_wizardspider_fp)/len(top3_wizardspider))\n",
    "print(\"False positives cumulative:\", len(top3_wizardspider_fp))"
   ]
  },
  {
   "cell_type": "code",
   "execution_count": 28,
   "metadata": {},
   "outputs": [
    {
     "name": "stdout",
     "output_type": "stream",
     "text": [
      "top3_menuPass scores:\n",
      "True positives on the actual positives:\t 0.75\n",
      "False positives (tuple) on predicted:\t 0.7377049180327869\n",
      "False positives cumulative: 405\n"
     ]
    }
   ],
   "source": [
    "top3_menuPass_tp= tuple_true_positives(topk_list=top3_menuPass,positive_list=cleaned_adv_menuPass)\n",
    "top3_menuPass_tp = list(dict.fromkeys(top3_menuPass_tp))\n",
    "top3_menuPass_fp= tuple_false_positives(topk_list=top3_menuPass,positive_list=cleaned_adv_menuPass)\n",
    "\n",
    "print(\"top3_menuPass scores:\")\n",
    "print(\"True positives on the actual positives:\\t\", len(top3_menuPass_tp)/len(cleaned_adv_menuPass))\n",
    "print(\"False positives (tuple) on predicted:\\t\", len(top3_menuPass_fp)/len(top3_menuPass))\n",
    "print(\"False positives cumulative:\", len(top3_menuPass_fp))"
   ]
  },
  {
   "cell_type": "markdown",
   "metadata": {},
   "source": [
    "## Top1\n"
   ]
  },
  {
   "cell_type": "code",
   "execution_count": 29,
   "metadata": {},
   "outputs": [
    {
     "name": "stdout",
     "output_type": "stream",
     "text": [
      "top1_apt29 scores:\n",
      "True positives on the actual positives:\t 0.43902439024390244\n",
      "False positives (tuple) on predicted:\t 0.775\n"
     ]
    }
   ],
   "source": [
    "top1_apt29_tp= true_positive_p(top1_apt29,cleaned_adv_apt29)\n",
    "top1_apt29_fp= false_positive_p(top1_apt29,cleaned_adv_apt29)\n",
    "\n",
    "print(\"top1_apt29 scores:\")\n",
    "print(\"True positives on the actual positives:\\t\",top1_apt29_tp)\n",
    "print(\"False positives (tuple) on predicted:\\t\", top1_apt29_fp)"
   ]
  },
  {
   "cell_type": "code",
   "execution_count": 30,
   "metadata": {},
   "outputs": [
    {
     "name": "stdout",
     "output_type": "stream",
     "text": [
      "top1_carbanak scores:\n",
      "True positives on the actual positives:\t 0.5263157894736842\n",
      "False positives (tuple) on predicted:\t 0.8591549295774648\n"
     ]
    }
   ],
   "source": [
    "top1_carbanak_tp= true_positive_p(top1_carbanak,cleaned_adv_carbanak)\n",
    "top1_carbanak_fp= false_positive_p(top1_carbanak,cleaned_adv_carbanak)\n",
    "\n",
    "print(\"top1_carbanak scores:\")\n",
    "print(\"True positives on the actual positives:\\t\",top1_carbanak_tp)\n",
    "print(\"False positives (tuple) on predicted:\\t\", top1_carbanak_fp)"
   ]
  },
  {
   "cell_type": "code",
   "execution_count": 31,
   "metadata": {},
   "outputs": [
    {
     "name": "stdout",
     "output_type": "stream",
     "text": [
      "top1_fin6 scores:\n",
      "True positives on the actual positives:\t 0.6\n",
      "False positives (tuple) on predicted:\t 0.8615384615384616\n"
     ]
    }
   ],
   "source": [
    "top1_fin6_tp= true_positive_p(top1_fin6,cleaned_adv_fin6)\n",
    "top1_fin6_fp= false_positive_p(top1_fin6,cleaned_adv_fin6)\n",
    "\n",
    "print(\"top1_fin6 scores:\")\n",
    "print(\"True positives on the actual positives:\\t\",top1_fin6_tp)\n",
    "print(\"False positives (tuple) on predicted:\\t\", top1_fin6_fp)"
   ]
  },
  {
   "cell_type": "code",
   "execution_count": 32,
   "metadata": {},
   "outputs": [
    {
     "name": "stdout",
     "output_type": "stream",
     "text": [
      "top1_fin7 scores:\n",
      "True positives on the actual positives:\t 0.7777777777777778\n",
      "False positives (tuple) on predicted:\t 0.9135802469135802\n"
     ]
    }
   ],
   "source": [
    "top1_fin7_tp= true_positive_p(top1_fin7,cleaned_adv_fin7)\n",
    "top1_fin7_fp= false_positive_p(top1_fin7,cleaned_adv_fin7)\n",
    "\n",
    "print(\"top1_fin7 scores:\")\n",
    "print(\"True positives on the actual positives:\\t\",top1_fin7_tp)\n",
    "print(\"False positives (tuple) on predicted:\\t\", top1_fin7_fp)"
   ]
  },
  {
   "cell_type": "code",
   "execution_count": 33,
   "metadata": {},
   "outputs": [
    {
     "name": "stdout",
     "output_type": "stream",
     "text": [
      "top1_menuPass scores:\n",
      "True positives on the actual positives:\t 0.6666666666666666\n",
      "False positives (tuple) on predicted:\t 0.9058823529411765\n"
     ]
    }
   ],
   "source": [
    "top1_menuPass_tp= true_positive_p(top1_menuPass,cleaned_adv_menuPass)\n",
    "top1_menuPass_fp= false_positive_p(top1_menuPass,cleaned_adv_menuPass)\n",
    "\n",
    "print(\"top1_menuPass scores:\")\n",
    "print(\"True positives on the actual positives:\\t\",top1_menuPass_tp)\n",
    "print(\"False positives (tuple) on predicted:\\t\", top1_menuPass_fp)"
   ]
  },
  {
   "cell_type": "code",
   "execution_count": 34,
   "metadata": {},
   "outputs": [
    {
     "name": "stdout",
     "output_type": "stream",
     "text": [
      "top1_oilrig scores:\n",
      "True positives on the actual positives:\t 0.7619047619047619\n",
      "False positives (tuple) on predicted:\t 0.7681159420289855\n"
     ]
    }
   ],
   "source": [
    "top1_oilrig_tp= true_positive_p(top1_oilrig,cleaned_adv_oilrig)\n",
    "top1_oilrig_fp= false_positive_p(top1_oilrig,cleaned_adv_oilrig)\n",
    "\n",
    "print(\"top1_oilrig scores:\")\n",
    "print(\"True positives on the actual positives:\\t\",top1_oilrig_tp)\n",
    "print(\"False positives (tuple) on predicted:\\t\", top1_oilrig_fp)"
   ]
  },
  {
   "cell_type": "code",
   "execution_count": 35,
   "metadata": {},
   "outputs": [
    {
     "name": "stdout",
     "output_type": "stream",
     "text": [
      "top1_sandworm scores:\n",
      "True positives on the actual positives:\t 0.6\n",
      "False positives (tuple) on predicted:\t 0.8208955223880597\n"
     ]
    }
   ],
   "source": [
    "top1_sandworm_tp= true_positive_p(top1_sandworm,cleaned_adv_sandworm)\n",
    "top1_sandworm_fp= false_positive_p(top1_sandworm,cleaned_adv_sandworm)\n",
    "\n",
    "print(\"top1_sandworm scores:\")\n",
    "print(\"True positives on the actual positives:\\t\",top1_sandworm_tp)\n",
    "print(\"False positives (tuple) on predicted:\\t\", top1_sandworm_fp)"
   ]
  },
  {
   "cell_type": "code",
   "execution_count": 36,
   "metadata": {},
   "outputs": [
    {
     "name": "stdout",
     "output_type": "stream",
     "text": [
      "top1_wizardspider scores:\n",
      "True positives on the actual positives:\t 0.4\n",
      "False positives (tuple) on predicted:\t 0.864406779661017\n"
     ]
    }
   ],
   "source": [
    "top1_wizardspider_tp= true_positive_p(top1_wizardspider,cleaned_adv_wizardspider)\n",
    "top1_wizardspider_fp= false_positive_p(top1_wizardspider,cleaned_adv_wizardspider)\n",
    "\n",
    "print(\"top1_wizardspider scores:\")\n",
    "print(\"True positives on the actual positives:\\t\",top1_wizardspider_tp)\n",
    "print(\"False positives (tuple) on predicted:\\t\", top1_wizardspider_fp)"
   ]
  }
 ],
 "metadata": {
  "kernelspec": {
   "display_name": "Python 3",
   "language": "python",
   "name": "python3"
  },
  "language_info": {
   "codemirror_mode": {
    "name": "ipython",
    "version": 3
   },
   "file_extension": ".py",
   "mimetype": "text/x-python",
   "name": "python",
   "nbconvert_exporter": "python",
   "pygments_lexer": "ipython3",
   "version": "3.10.12"
  }
 },
 "nbformat": 4,
 "nbformat_minor": 2
}
